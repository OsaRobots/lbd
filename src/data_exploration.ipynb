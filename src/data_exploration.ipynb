{
 "cells": [
  {
   "cell_type": "code",
   "execution_count": 8,
   "id": "333096b7",
   "metadata": {},
   "outputs": [],
   "source": [
    "import polars as pl\n",
    "import pandas as pd\n",
    "import polars.selectors as cs \n",
    "import numpy as np\n",
    "from scipy.stats import sem, t\n",
    "import seaborn as sns\n",
    "from inspect import signature\n",
    "from typing import Callable\n",
    "import matplotlib.pyplot as plt "
   ]
  },
  {
   "cell_type": "code",
   "execution_count": 163,
   "id": "a07d3b3e",
   "metadata": {},
   "outputs": [],
   "source": [
    "def list_eval_ref(\n",
    "    listcol: pl.Expr | str,\n",
    "    op: Callable[..., pl.Expr],\n",
    "    *ref_cols: str | pl.Expr,\n",
    "):\n",
    "    if len(ref_cols)==0:\n",
    "        ref_cols = tuple([x for x in signature(op).parameters.keys()][1:])\n",
    "    \n",
    "    args_to_op = [pl.element().struct[0].explode()] + [\n",
    "        pl.element().struct[i + 1] for i in range(len(ref_cols))\n",
    "    ]\n",
    "    return pl.concat_list(pl.struct(listcol, *ref_cols)).list.eval(op(*args_to_op))\n",
    "\n",
    "def processing(df: pl.DataFrame):\n",
    "    df = df.sort(pl.col('subjectID', 'trial'))\n",
    "    match = cs.matches(r'^valArm(?:[1-9]|1[0-9]|20)$')\n",
    "    noise_arm_match = cs.matches(r'^noiseArm(?:[1-9]|1[0-9]|20)$')\n",
    "    rand_arm_match = cs.matches(r'^randArm(?:[1-9]|1[0-9]|20)$')\n",
    "    train_df = df.filter(pl.col('phase') == 'training')\n",
    "\n",
    "    train_df = train_df.with_columns(\n",
    "        all_arm_vals = pl.concat_list(match),\n",
    "        all_noise_vals = pl.concat_list(noise_arm_match),\n",
    "        rand_arm_vals = pl.concat_list(rand_arm_match)\n",
    "    )\n",
    "\n",
    "    train_df = train_df.with_columns(\n",
    "        true_arm_vals = pl.struct('all_arm_vals', 'all_noise_vals')\n",
    "        .map_batches(\n",
    "            lambda x: np.array(x.struct.field('all_arm_vals')) - np.array(x.struct.field('all_noise_vals'))\n",
    "        )\n",
    "    )\n",
    "    # get rank of the chosen arm \n",
    "    # the true rank is defined by the pre noise value ranking \n",
    "\n",
    "    train_df = train_df.with_columns(\n",
    "        true_selected_arm_val = pl.struct('chosenArm', 'rand_arm_vals')\n",
    "        .map_batches(\n",
    "            lambda x: x.struct.field('rand_arm_vals').list.get(x.struct.field('chosenArm') - 1)\n",
    "        )\n",
    "    )\n",
    "\n",
    "    return train_df\n",
    "    print(train_df)\n",
    "    train_df = train_df.with_columns(   \n",
    "        all_arm_vals_shifted=list_eval_ref(\"true_arm_vals\", lambda x, all_noise_vals: x-all_noise_vals)\n",
    "        .list\n",
    "        .sort(descending=True)\n",
    "    )\n",
    "    train_df = train_df.with_columns(pl.col('all_arm_vals_shifted').list.eval((pl.element() == 0).cast(int).arg_max()).list.first().alias('chosenRank'))\n",
    "    grouped_chosen_ranks = train_df.group_by('trial', 'expCond').agg(pl.col('chosenRank').mean())\n",
    "    return train_df, grouped_chosen_ranks\n"
   ]
  },
  {
   "cell_type": "code",
   "execution_count": 131,
   "id": "e4c002ff",
   "metadata": {},
   "outputs": [],
   "source": [
    "df = pl.read_csv('/Users/jeremiahetiosaomeike/research_projects/lbd/data/exp1_banditData.csv', null_values='NA')\n",
    "df = df.sort(pl.col('subjectID', 'trial'))"
   ]
  },
  {
   "cell_type": "code",
   "execution_count": 147,
   "id": "765d4f75",
   "metadata": {},
   "outputs": [
    {
     "data": {
      "text/html": [
       "<div><style>\n",
       ".dataframe > thead > tr,\n",
       ".dataframe > tbody > tr {\n",
       "  text-align: right;\n",
       "  white-space: pre-wrap;\n",
       "}\n",
       "</style>\n",
       "<small>shape: (28_190, 141)</small><table border=\"1\" class=\"dataframe\"><thead><tr><th>browser</th><th>platform</th><th>subjectID</th><th>expID</th><th>expCond</th><th>totalTime</th><th>phase</th><th>trial</th><th>keyPress</th><th>chosenArm</th><th>choiceRT</th><th>rewardObtained</th><th>rewardMax</th><th>regret</th><th>correct</th><th>switch</th><th>runningTotal</th><th>valArm1</th><th>randArm1</th><th>valArm2</th><th>randArm2</th><th>valArm3</th><th>randArm3</th><th>valArm4</th><th>randArm4</th><th>valArm5</th><th>randArm5</th><th>valArm6</th><th>randArm6</th><th>valArm7</th><th>randArm7</th><th>valArm8</th><th>randArm8</th><th>valArm9</th><th>randArm9</th><th>valArm10</th><th>randArm10</th><th>&hellip;</th><th>valArm12feat2</th><th>noiseArm12</th><th>nameArm12</th><th>valArm13feat1</th><th>valArm13feat2</th><th>noiseArm13</th><th>nameArm13</th><th>valArm14feat1</th><th>valArm14feat2</th><th>noiseArm14</th><th>nameArm14</th><th>valArm15feat1</th><th>valArm15feat2</th><th>noiseArm15</th><th>nameArm15</th><th>valArm16feat1</th><th>valArm16feat2</th><th>noiseArm16</th><th>nameArm16</th><th>valArm17feat1</th><th>valArm17feat2</th><th>noiseArm17</th><th>nameArm17</th><th>valArm18feat1</th><th>valArm18feat2</th><th>noiseArm18</th><th>nameArm18</th><th>valArm19feat1</th><th>valArm19feat2</th><th>noiseArm19</th><th>nameArm19</th><th>valArm20feat1</th><th>valArm20feat2</th><th>noiseArm20</th><th>nameArm20</th><th>weight1</th><th>weight2</th></tr><tr><td>str</td><td>str</td><td>i64</td><td>str</td><td>str</td><td>f64</td><td>str</td><td>i64</td><td>i64</td><td>i64</td><td>i64</td><td>f64</td><td>f64</td><td>f64</td><td>i64</td><td>i64</td><td>f64</td><td>f64</td><td>i64</td><td>f64</td><td>i64</td><td>f64</td><td>i64</td><td>f64</td><td>i64</td><td>f64</td><td>i64</td><td>f64</td><td>i64</td><td>f64</td><td>i64</td><td>f64</td><td>i64</td><td>f64</td><td>i64</td><td>f64</td><td>i64</td><td>&hellip;</td><td>f64</td><td>f64</td><td>str</td><td>f64</td><td>f64</td><td>f64</td><td>str</td><td>f64</td><td>f64</td><td>f64</td><td>str</td><td>f64</td><td>f64</td><td>f64</td><td>str</td><td>f64</td><td>f64</td><td>f64</td><td>str</td><td>f64</td><td>f64</td><td>f64</td><td>str</td><td>f64</td><td>f64</td><td>f64</td><td>str</td><td>f64</td><td>f64</td><td>f64</td><td>str</td><td>f64</td><td>f64</td><td>f64</td><td>str</td><td>i64</td><td>i64</td></tr></thead><tbody><tr><td>&quot;chrome&quot;</td><td>&quot;windows&quot;</td><td>2</td><td>&quot;exp1highReward&quot;</td><td>&quot;CMAB_Lin_NoIns&quot;</td><td>10.816433</td><td>&quot;training&quot;</td><td>1</td><td>19</td><td>20</td><td>9712</td><td>2.721505</td><td>3.561307</td><td>0.839802</td><td>0</td><td>0</td><td>22.721505</td><td>1.327617</td><td>2</td><td>1.718571</td><td>9</td><td>1.876731</td><td>6</td><td>2.88524</td><td>10</td><td>2.065993</td><td>15</td><td>1.109209</td><td>8</td><td>3.464238</td><td>12</td><td>1.913467</td><td>11</td><td>1.214639</td><td>1</td><td>2.352129</td><td>4</td><td>&hellip;</td><td>0.217513</td><td>-0.158846</td><td>&quot;inter&quot;</td><td>0.72645</td><td>0.867909</td><td>1.099039</td><td>&quot;inter&quot;</td><td>0.216667</td><td>0.821464</td><td>-0.494095</td><td>&quot;inter&quot;</td><td>0.127428</td><td>0.167216</td><td>-1.310707</td><td>&quot;inter&quot;</td><td>0.283032</td><td>0.525127</td><td>-0.138439</td><td>&quot;inter&quot;</td><td>0.711361</td><td>0.112186</td><td>-0.495821</td><td>&quot;inter&quot;</td><td>0.753527</td><td>0.607805</td><td>1.323672</td><td>&quot;inter&quot;</td><td>0.677082</td><td>0.632203</td><td>0.998222</td><td>&quot;inter&quot;</td><td>0.803621</td><td>0.732499</td><td>0.452885</td><td>&quot;inter&quot;</td><td>1</td><td>2</td></tr><tr><td>&quot;chrome&quot;</td><td>&quot;windows&quot;</td><td>2</td><td>&quot;exp1highReward&quot;</td><td>&quot;CMAB_Lin_NoIns&quot;</td><td>10.816433</td><td>&quot;test&quot;</td><td>1</td><td>1</td><td>2</td><td>5477</td><td>1.418656</td><td>1.418656</td><td>0.0</td><td>1</td><td>0</td><td>182.213264</td><td>0.449713</td><td>2</td><td>1.418656</td><td>1</td><td>-0.152609</td><td>3</td><td>null</td><td>null</td><td>null</td><td>null</td><td>null</td><td>null</td><td>null</td><td>null</td><td>null</td><td>null</td><td>null</td><td>null</td><td>null</td><td>null</td><td>&hellip;</td><td>null</td><td>null</td><td>null</td><td>null</td><td>null</td><td>null</td><td>null</td><td>null</td><td>null</td><td>null</td><td>null</td><td>null</td><td>null</td><td>null</td><td>null</td><td>null</td><td>null</td><td>null</td><td>null</td><td>null</td><td>null</td><td>null</td><td>null</td><td>null</td><td>null</td><td>null</td><td>null</td><td>null</td><td>null</td><td>null</td><td>null</td><td>null</td><td>null</td><td>null</td><td>null</td><td>1</td><td>2</td></tr><tr><td>&quot;chrome&quot;</td><td>&quot;windows&quot;</td><td>2</td><td>&quot;exp1highReward&quot;</td><td>&quot;CMAB_Lin_NoIns&quot;</td><td>10.816433</td><td>&quot;training&quot;</td><td>2</td><td>18</td><td>19</td><td>5833</td><td>1.082311</td><td>3.991859</td><td>2.909548</td><td>0</td><td>1</td><td>23.803816</td><td>1.207088</td><td>2</td><td>2.114623</td><td>9</td><td>2.573887</td><td>6</td><td>2.285075</td><td>10</td><td>1.24303</td><td>15</td><td>1.525026</td><td>8</td><td>1.987652</td><td>12</td><td>-0.849392</td><td>11</td><td>2.314265</td><td>1</td><td>3.315799</td><td>4</td><td>&hellip;</td><td>0.217513</td><td>0.562236</td><td>&quot;inter&quot;</td><td>0.72645</td><td>0.867909</td><td>-0.09522</td><td>&quot;inter&quot;</td><td>0.216667</td><td>0.821464</td><td>-1.032388</td><td>&quot;inter&quot;</td><td>0.127428</td><td>0.167216</td><td>0.999521</td><td>&quot;inter&quot;</td><td>0.283032</td><td>0.525127</td><td>2.658572</td><td>&quot;inter&quot;</td><td>0.711361</td><td>0.112186</td><td>0.230814</td><td>&quot;inter&quot;</td><td>0.753527</td><td>0.607805</td><td>0.142077</td><td>&quot;inter&quot;</td><td>0.677082</td><td>0.632203</td><td>-0.859178</td><td>&quot;inter&quot;</td><td>0.803621</td><td>0.732499</td><td>-0.466765</td><td>&quot;inter&quot;</td><td>1</td><td>2</td></tr><tr><td>&quot;chrome&quot;</td><td>&quot;windows&quot;</td><td>2</td><td>&quot;exp1highReward&quot;</td><td>&quot;CMAB_Lin_NoIns&quot;</td><td>10.816433</td><td>&quot;test&quot;</td><td>2</td><td>2</td><td>3</td><td>1723</td><td>2.45246</td><td>2.45246</td><td>0.0</td><td>1</td><td>1</td><td>184.665724</td><td>1.089181</td><td>3</td><td>0.988944</td><td>2</td><td>2.45246</td><td>1</td><td>null</td><td>null</td><td>null</td><td>null</td><td>null</td><td>null</td><td>null</td><td>null</td><td>null</td><td>null</td><td>null</td><td>null</td><td>null</td><td>null</td><td>&hellip;</td><td>null</td><td>null</td><td>null</td><td>null</td><td>null</td><td>null</td><td>null</td><td>null</td><td>null</td><td>null</td><td>null</td><td>null</td><td>null</td><td>null</td><td>null</td><td>null</td><td>null</td><td>null</td><td>null</td><td>null</td><td>null</td><td>null</td><td>null</td><td>null</td><td>null</td><td>null</td><td>null</td><td>null</td><td>null</td><td>null</td><td>null</td><td>null</td><td>null</td><td>null</td><td>null</td><td>1</td><td>2</td></tr><tr><td>&quot;chrome&quot;</td><td>&quot;windows&quot;</td><td>2</td><td>&quot;exp1highReward&quot;</td><td>&quot;CMAB_Lin_NoIns&quot;</td><td>10.816433</td><td>&quot;training&quot;</td><td>3</td><td>0</td><td>1</td><td>2766</td><td>0.619955</td><td>3.496261</td><td>2.876306</td><td>0</td><td>1</td><td>24.423771</td><td>0.619955</td><td>2</td><td>-1.048898</td><td>9</td><td>1.276719</td><td>6</td><td>2.189622</td><td>10</td><td>3.052373</td><td>15</td><td>1.861023</td><td>8</td><td>1.53738</td><td>12</td><td>2.245228</td><td>11</td><td>1.266903</td><td>1</td><td>2.433701</td><td>4</td><td>&hellip;</td><td>0.217513</td><td>0.19402</td><td>&quot;inter&quot;</td><td>0.72645</td><td>0.867909</td><td>1.033992</td><td>&quot;inter&quot;</td><td>0.216667</td><td>0.821464</td><td>-1.014614</td><td>&quot;inter&quot;</td><td>0.127428</td><td>0.167216</td><td>-0.023868</td><td>&quot;inter&quot;</td><td>0.283032</td><td>0.525127</td><td>0.898417</td><td>&quot;inter&quot;</td><td>0.711361</td><td>0.112186</td><td>0.085191</td><td>&quot;inter&quot;</td><td>0.753527</td><td>0.607805</td><td>0.779204</td><td>&quot;inter&quot;</td><td>0.677082</td><td>0.632203</td><td>-0.147048</td><td>&quot;inter&quot;</td><td>0.803621</td><td>0.732499</td><td>-0.956391</td><td>&quot;inter&quot;</td><td>1</td><td>2</td></tr><tr><td>&hellip;</td><td>&hellip;</td><td>&hellip;</td><td>&hellip;</td><td>&hellip;</td><td>&hellip;</td><td>&hellip;</td><td>&hellip;</td><td>&hellip;</td><td>&hellip;</td><td>&hellip;</td><td>&hellip;</td><td>&hellip;</td><td>&hellip;</td><td>&hellip;</td><td>&hellip;</td><td>&hellip;</td><td>&hellip;</td><td>&hellip;</td><td>&hellip;</td><td>&hellip;</td><td>&hellip;</td><td>&hellip;</td><td>&hellip;</td><td>&hellip;</td><td>&hellip;</td><td>&hellip;</td><td>&hellip;</td><td>&hellip;</td><td>&hellip;</td><td>&hellip;</td><td>&hellip;</td><td>&hellip;</td><td>&hellip;</td><td>&hellip;</td><td>&hellip;</td><td>&hellip;</td><td>&hellip;</td><td>&hellip;</td><td>&hellip;</td><td>&hellip;</td><td>&hellip;</td><td>&hellip;</td><td>&hellip;</td><td>&hellip;</td><td>&hellip;</td><td>&hellip;</td><td>&hellip;</td><td>&hellip;</td><td>&hellip;</td><td>&hellip;</td><td>&hellip;</td><td>&hellip;</td><td>&hellip;</td><td>&hellip;</td><td>&hellip;</td><td>&hellip;</td><td>&hellip;</td><td>&hellip;</td><td>&hellip;</td><td>&hellip;</td><td>&hellip;</td><td>&hellip;</td><td>&hellip;</td><td>&hellip;</td><td>&hellip;</td><td>&hellip;</td><td>&hellip;</td><td>&hellip;</td><td>&hellip;</td><td>&hellip;</td><td>&hellip;</td><td>&hellip;</td><td>&hellip;</td><td>&hellip;</td></tr><tr><td>&quot;firefox&quot;</td><td>&quot;windows&quot;</td><td>357</td><td>&quot;exp1highReward&quot;</td><td>&quot;MAB_Lin&quot;</td><td>5.661583</td><td>&quot;training&quot;</td><td>96</td><td>16</td><td>17</td><td>264</td><td>2.934323</td><td>3.056532</td><td>0.122209</td><td>0</td><td>1</td><td>200.422783</td><td>1.992445</td><td>4</td><td>2.409771</td><td>13</td><td>1.149279</td><td>2</td><td>0.934874</td><td>6</td><td>0.319049</td><td>19</td><td>-0.370369</td><td>12</td><td>0.159502</td><td>5</td><td>0.704094</td><td>1</td><td>-0.536397</td><td>17</td><td>0.419553</td><td>11</td><td>&hellip;</td><td>0.627812</td><td>-0.349723</td><td>&quot;inter&quot;</td><td>0.416415</td><td>0.165412</td><td>-1.028168</td><td>&quot;inter&quot;</td><td>0.11768</td><td>0.883581</td><td>-0.567994</td><td>&quot;inter&quot;</td><td>0.451982</td><td>0.624603</td><td>-1.290522</td><td>&quot;inter&quot;</td><td>0.636182</td><td>0.801538</td><td>0.012748</td><td>&quot;inter&quot;</td><td>0.892148</td><td>0.568857</td><td>0.581169</td><td>&quot;inter&quot;</td><td>0.489443</td><td>0.636078</td><td>0.428402</td><td>&quot;inter&quot;</td><td>0.811643</td><td>0.426754</td><td>-1.049746</td><td>&quot;inter&quot;</td><td>0.749234</td><td>0.445612</td><td>1.112453</td><td>&quot;inter&quot;</td><td>2</td><td>1</td></tr><tr><td>&quot;firefox&quot;</td><td>&quot;windows&quot;</td><td>357</td><td>&quot;exp1highReward&quot;</td><td>&quot;MAB_Lin&quot;</td><td>5.661583</td><td>&quot;training&quot;</td><td>97</td><td>16</td><td>17</td><td>326</td><td>1.951474</td><td>3.095261</td><td>1.143787</td><td>0</td><td>0</td><td>202.374257</td><td>0.922237</td><td>4</td><td>0.611632</td><td>13</td><td>-1.372232</td><td>2</td><td>0.871147</td><td>6</td><td>0.255031</td><td>19</td><td>-0.003087</td><td>12</td><td>2.084547</td><td>5</td><td>2.472242</td><td>1</td><td>1.92802</td><td>17</td><td>-0.035103</td><td>11</td><td>&hellip;</td><td>0.627812</td><td>-1.004059</td><td>&quot;inter&quot;</td><td>0.416415</td><td>0.165412</td><td>0.164106</td><td>&quot;inter&quot;</td><td>0.11768</td><td>0.883581</td><td>-0.115076</td><td>&quot;inter&quot;</td><td>0.451982</td><td>0.624603</td><td>0.766353</td><td>&quot;inter&quot;</td><td>0.636182</td><td>0.801538</td><td>1.021359</td><td>&quot;inter&quot;</td><td>0.892148</td><td>0.568857</td><td>-0.401679</td><td>&quot;inter&quot;</td><td>0.489443</td><td>0.636078</td><td>0.065846</td><td>&quot;inter&quot;</td><td>0.811643</td><td>0.426754</td><td>-0.518802</td><td>&quot;inter&quot;</td><td>0.749234</td><td>0.445612</td><td>-0.193789</td><td>&quot;inter&quot;</td><td>2</td><td>1</td></tr><tr><td>&quot;firefox&quot;</td><td>&quot;windows&quot;</td><td>357</td><td>&quot;exp1highReward&quot;</td><td>&quot;MAB_Lin&quot;</td><td>5.661583</td><td>&quot;training&quot;</td><td>98</td><td>16</td><td>17</td><td>459</td><td>1.939091</td><td>4.328614</td><td>2.389522</td><td>0</td><td>0</td><td>204.313349</td><td>1.062252</td><td>4</td><td>4.226407</td><td>13</td><td>-0.095945</td><td>2</td><td>2.836889</td><td>6</td><td>0.814876</td><td>19</td><td>-0.351499</td><td>12</td><td>1.972048</td><td>5</td><td>1.017589</td><td>1</td><td>1.375276</td><td>17</td><td>0.753573</td><td>11</td><td>&hellip;</td><td>0.627812</td><td>2.080083</td><td>&quot;inter&quot;</td><td>0.416415</td><td>0.165412</td><td>-0.685837</td><td>&quot;inter&quot;</td><td>0.11768</td><td>0.883581</td><td>1.08956</td><td>&quot;inter&quot;</td><td>0.451982</td><td>0.624603</td><td>1.32574</td><td>&quot;inter&quot;</td><td>0.636182</td><td>0.801538</td><td>1.533621</td><td>&quot;inter&quot;</td><td>0.892148</td><td>0.568857</td><td>-0.414062</td><td>&quot;inter&quot;</td><td>0.489443</td><td>0.636078</td><td>-0.658163</td><td>&quot;inter&quot;</td><td>0.811643</td><td>0.426754</td><td>0.66962</td><td>&quot;inter&quot;</td><td>0.749234</td><td>0.445612</td><td>0.190015</td><td>&quot;inter&quot;</td><td>2</td><td>1</td></tr><tr><td>&quot;firefox&quot;</td><td>&quot;windows&quot;</td><td>357</td><td>&quot;exp1highReward&quot;</td><td>&quot;MAB_Lin&quot;</td><td>5.661583</td><td>&quot;training&quot;</td><td>99</td><td>18</td><td>19</td><td>680</td><td>1.826546</td><td>2.978731</td><td>1.152185</td><td>0</td><td>1</td><td>206.139895</td><td>1.96475</td><td>4</td><td>1.037819</td><td>13</td><td>0.579412</td><td>2</td><td>2.822571</td><td>6</td><td>1.758046</td><td>19</td><td>1.460204</td><td>12</td><td>1.761822</td><td>5</td><td>2.552483</td><td>1</td><td>0.823805</td><td>17</td><td>0.199735</td><td>11</td><td>&hellip;</td><td>0.627812</td><td>-0.262451</td><td>&quot;inter&quot;</td><td>0.416415</td><td>0.165412</td><td>-0.088036</td><td>&quot;inter&quot;</td><td>0.11768</td><td>0.883581</td><td>0.738748</td><td>&quot;inter&quot;</td><td>0.451982</td><td>0.624603</td><td>-1.001483</td><td>&quot;inter&quot;</td><td>0.636182</td><td>0.801538</td><td>-0.396266</td><td>&quot;inter&quot;</td><td>0.892148</td><td>0.568857</td><td>0.030941</td><td>&quot;inter&quot;</td><td>0.489443</td><td>0.636078</td><td>0.302163</td><td>&quot;inter&quot;</td><td>0.811643</td><td>0.426754</td><td>-0.223494</td><td>&quot;inter&quot;</td><td>0.749234</td><td>0.445612</td><td>0.343347</td><td>&quot;inter&quot;</td><td>2</td><td>1</td></tr><tr><td>&quot;firefox&quot;</td><td>&quot;windows&quot;</td><td>357</td><td>&quot;exp1highReward&quot;</td><td>&quot;MAB_Lin&quot;</td><td>5.661583</td><td>&quot;training&quot;</td><td>100</td><td>18</td><td>19</td><td>504</td><td>1.285724</td><td>3.521983</td><td>2.236259</td><td>0</td><td>0</td><td>207.425619</td><td>3.521983</td><td>4</td><td>0.834974</td><td>13</td><td>1.687546</td><td>2</td><td>0.931127</td><td>6</td><td>0.964146</td><td>19</td><td>0.696098</td><td>12</td><td>1.890998</td><td>5</td><td>2.411202</td><td>1</td><td>2.916975</td><td>17</td><td>1.085393</td><td>11</td><td>&hellip;</td><td>0.627812</td><td>1.046675</td><td>&quot;inter&quot;</td><td>0.416415</td><td>0.165412</td><td>1.195717</td><td>&quot;inter&quot;</td><td>0.11768</td><td>0.883581</td><td>-0.022425</td><td>&quot;inter&quot;</td><td>0.451982</td><td>0.624603</td><td>-0.158846</td><td>&quot;inter&quot;</td><td>0.636182</td><td>0.801538</td><td>0.644977</td><td>&quot;inter&quot;</td><td>0.892148</td><td>0.568857</td><td>0.377648</td><td>&quot;inter&quot;</td><td>0.489443</td><td>0.636078</td><td>1.443364</td><td>&quot;inter&quot;</td><td>0.811643</td><td>0.426754</td><td>-0.764316</td><td>&quot;inter&quot;</td><td>0.749234</td><td>0.445612</td><td>0.457858</td><td>&quot;inter&quot;</td><td>2</td><td>1</td></tr></tbody></table></div>"
      ],
      "text/plain": [
       "shape: (28_190, 141)\n",
       "┌─────────┬──────────┬───────────┬────────────────┬───┬────────────┬───────────┬─────────┬─────────┐\n",
       "│ browser ┆ platform ┆ subjectID ┆ expID          ┆ … ┆ noiseArm20 ┆ nameArm20 ┆ weight1 ┆ weight2 │\n",
       "│ ---     ┆ ---      ┆ ---       ┆ ---            ┆   ┆ ---        ┆ ---       ┆ ---     ┆ ---     │\n",
       "│ str     ┆ str      ┆ i64       ┆ str            ┆   ┆ f64        ┆ str       ┆ i64     ┆ i64     │\n",
       "╞═════════╪══════════╪═══════════╪════════════════╪═══╪════════════╪═══════════╪═════════╪═════════╡\n",
       "│ chrome  ┆ windows  ┆ 2         ┆ exp1highReward ┆ … ┆ 0.452885   ┆ inter     ┆ 1       ┆ 2       │\n",
       "│ chrome  ┆ windows  ┆ 2         ┆ exp1highReward ┆ … ┆ null       ┆ null      ┆ 1       ┆ 2       │\n",
       "│ chrome  ┆ windows  ┆ 2         ┆ exp1highReward ┆ … ┆ -0.466765  ┆ inter     ┆ 1       ┆ 2       │\n",
       "│ chrome  ┆ windows  ┆ 2         ┆ exp1highReward ┆ … ┆ null       ┆ null      ┆ 1       ┆ 2       │\n",
       "│ chrome  ┆ windows  ┆ 2         ┆ exp1highReward ┆ … ┆ -0.956391  ┆ inter     ┆ 1       ┆ 2       │\n",
       "│ …       ┆ …        ┆ …         ┆ …              ┆ … ┆ …          ┆ …         ┆ …       ┆ …       │\n",
       "│ firefox ┆ windows  ┆ 357       ┆ exp1highReward ┆ … ┆ 1.112453   ┆ inter     ┆ 2       ┆ 1       │\n",
       "│ firefox ┆ windows  ┆ 357       ┆ exp1highReward ┆ … ┆ -0.193789  ┆ inter     ┆ 2       ┆ 1       │\n",
       "│ firefox ┆ windows  ┆ 357       ┆ exp1highReward ┆ … ┆ 0.190015   ┆ inter     ┆ 2       ┆ 1       │\n",
       "│ firefox ┆ windows  ┆ 357       ┆ exp1highReward ┆ … ┆ 0.343347   ┆ inter     ┆ 2       ┆ 1       │\n",
       "│ firefox ┆ windows  ┆ 357       ┆ exp1highReward ┆ … ┆ 0.457858   ┆ inter     ┆ 2       ┆ 1       │\n",
       "└─────────┴──────────┴───────────┴────────────────┴───┴────────────┴───────────┴─────────┴─────────┘"
      ]
     },
     "execution_count": 147,
     "metadata": {},
     "output_type": "execute_result"
    }
   ],
   "source": [
    "df"
   ]
  },
  {
   "cell_type": "code",
   "execution_count": 164,
   "id": "7308a678",
   "metadata": {},
   "outputs": [
    {
     "name": "stdout",
     "output_type": "stream",
     "text": [
      "shape: (19_300, 146)\n",
      "┌─────────┬──────────┬───────────┬────────────┬───┬────────────┬───────────┬───────────┬───────────┐\n",
      "│ browser ┆ platform ┆ subjectID ┆ expID      ┆ … ┆ all_noise_ ┆ rand_arm_ ┆ true_arm_ ┆ true_sele │\n",
      "│ ---     ┆ ---      ┆ ---       ┆ ---        ┆   ┆ vals       ┆ vals      ┆ vals      ┆ cted_arm_ │\n",
      "│ str     ┆ str      ┆ i64       ┆ str        ┆   ┆ ---        ┆ ---       ┆ ---       ┆ val       │\n",
      "│         ┆          ┆           ┆            ┆   ┆ list[f64]  ┆ list[i64] ┆ object    ┆ ---       │\n",
      "│         ┆          ┆           ┆            ┆   ┆            ┆           ┆           ┆ i64       │\n",
      "╞═════════╪══════════╪═══════════╪════════════╪═══╪════════════╪═══════════╪═══════════╪═══════════╡\n",
      "│ chrome  ┆ windows  ┆ 2         ┆ exp1highRe ┆ … ┆ [0.203984, ┆ [2, 9, …  ┆ [1.123633 ┆ 20        │\n",
      "│         ┆          ┆           ┆ ward       ┆   ┆ 0.557114,  ┆ 5]        ┆ 68 1.1614 ┆           │\n",
      "│         ┆          ┆           ┆            ┆   ┆ … 0.45288… ┆           ┆ 5724      ┆           │\n",
      "│         ┆          ┆           ┆            ┆   ┆            ┆           ┆ 1.36858…  ┆           │\n",
      "│ chrome  ┆ windows  ┆ 2         ┆ exp1highRe ┆ … ┆ [0.083454, ┆ [2, 9, …  ┆ [1.123633 ┆ 20        │\n",
      "│         ┆          ┆           ┆ ward       ┆   ┆ 0.953166,  ┆ 5]        ┆ 68 1.1614 ┆           │\n",
      "│         ┆          ┆           ┆            ┆   ┆ … -0.4667… ┆           ┆ 5724      ┆           │\n",
      "│         ┆          ┆           ┆            ┆   ┆            ┆           ┆ 1.36858…  ┆           │\n",
      "│ chrome  ┆ windows  ┆ 2         ┆ exp1highRe ┆ … ┆ [-0.503679 ┆ [2, 9, …  ┆ [1.123633 ┆ 20        │\n",
      "│         ┆          ┆           ┆ ward       ┆   ┆ ,          ┆ 5]        ┆ 68 1.1614 ┆           │\n",
      "│         ┆          ┆           ┆            ┆   ┆ -2.210355, ┆           ┆ 5724      ┆           │\n",
      "│         ┆          ┆           ┆            ┆   ┆ … -0.95…   ┆           ┆ 1.36858…  ┆           │\n",
      "│ chrome  ┆ windows  ┆ 2         ┆ exp1highRe ┆ … ┆ [0.620375, ┆ [2, 9, …  ┆ [1.123633 ┆ 20        │\n",
      "│         ┆          ┆           ┆ ward       ┆   ┆ 1.064792,  ┆ 5]        ┆ 68 1.1614 ┆           │\n",
      "│         ┆          ┆           ┆            ┆   ┆ … -0.9117… ┆           ┆ 5724      ┆           │\n",
      "│         ┆          ┆           ┆            ┆   ┆            ┆           ┆ 1.36858…  ┆           │\n",
      "│ chrome  ┆ windows  ┆ 2         ┆ exp1highRe ┆ … ┆ [3.850648, ┆ [2, 9, …  ┆ [1.123633 ┆ 20        │\n",
      "│         ┆          ┆           ┆ ward       ┆   ┆ 1.050192,  ┆ 5]        ┆ 68 1.1614 ┆           │\n",
      "│         ┆          ┆           ┆            ┆   ┆ … -0.1324… ┆           ┆ 5724      ┆           │\n",
      "│         ┆          ┆           ┆            ┆   ┆            ┆           ┆ 1.36858…  ┆           │\n",
      "│ …       ┆ …        ┆ …         ┆ …          ┆ … ┆ …          ┆ …         ┆ …         ┆ …         │\n",
      "│ firefox ┆ windows  ┆ 357       ┆ exp1highRe ┆ … ┆ [0.07928,  ┆ [4, 13, … ┆ [1.913165 ┆ 1         │\n",
      "│         ┆          ┆           ┆ ward       ┆   ┆ 0.316856,  ┆ 20]       ┆ 19 2.0929 ┆           │\n",
      "│         ┆          ┆           ┆            ┆   ┆ …          ┆           ┆ 1439      ┆           │\n",
      "│         ┆          ┆           ┆            ┆   ┆ 1.112453…  ┆           ┆ 1.27908…  ┆           │\n",
      "│ firefox ┆ windows  ┆ 357       ┆ exp1highRe ┆ … ┆ [-0.990928 ┆ [4, 13, … ┆ [1.913165 ┆ 1         │\n",
      "│         ┆          ┆           ┆ ward       ┆   ┆ ,          ┆ 20]       ┆ 19 2.0929 ┆           │\n",
      "│         ┆          ┆           ┆            ┆   ┆ -1.481282, ┆           ┆ 1439      ┆           │\n",
      "│         ┆          ┆           ┆            ┆   ┆ … -0.19…   ┆           ┆ 1.27908…  ┆           │\n",
      "│ firefox ┆ windows  ┆ 357       ┆ exp1highRe ┆ … ┆ [-0.850913 ┆ [4, 13, … ┆ [1.913165 ┆ 1         │\n",
      "│         ┆          ┆           ┆ ward       ┆   ┆ ,          ┆ 20]       ┆ 19 2.0929 ┆           │\n",
      "│         ┆          ┆           ┆            ┆   ┆ 2.133493,  ┆           ┆ 1439      ┆           │\n",
      "│         ┆          ┆           ┆            ┆   ┆ … 0.1900…  ┆           ┆ 1.27908…  ┆           │\n",
      "│ firefox ┆ windows  ┆ 357       ┆ exp1highRe ┆ … ┆ [0.051585, ┆ [4, 13, … ┆ [1.913165 ┆ 1         │\n",
      "│         ┆          ┆           ┆ ward       ┆   ┆ -1.055096, ┆ 20]       ┆ 19 2.0929 ┆           │\n",
      "│         ┆          ┆           ┆            ┆   ┆ … 0.3433…  ┆           ┆ 1439      ┆           │\n",
      "│         ┆          ┆           ┆            ┆   ┆            ┆           ┆ 1.27908…  ┆           │\n",
      "│ firefox ┆ windows  ┆ 357       ┆ exp1highRe ┆ … ┆ [1.608817, ┆ [4, 13, … ┆ [1.913165 ┆ 1         │\n",
      "│         ┆          ┆           ┆ ward       ┆   ┆ -1.25794,  ┆ 20]       ┆ 19 2.0929 ┆           │\n",
      "│         ┆          ┆           ┆            ┆   ┆ … 0.45785… ┆           ┆ 1439      ┆           │\n",
      "│         ┆          ┆           ┆            ┆   ┆            ┆           ┆ 1.27908…  ┆           │\n",
      "└─────────┴──────────┴───────────┴────────────┴───┴────────────┴───────────┴───────────┴───────────┘\n"
     ]
    },
    {
     "name": "stderr",
     "output_type": "stream",
     "text": [
      "\n",
      "thread '<unnamed>' panicked at crates/polars-core/src/series/ops/null.rs:60:80:\n",
      "called `Result::unwrap()` on an `Err` value: InvalidOperation(ErrString(\"nested objects are not allowed\"))\n",
      "note: run with `RUST_BACKTRACE=1` environment variable to display a backtrace\n"
     ]
    },
    {
     "ename": "PanicException",
     "evalue": "called `Result::unwrap()` on an `Err` value: InvalidOperation(ErrString(\"nested objects are not allowed\"))",
     "output_type": "error",
     "traceback": [
      "\u001b[0;31m---------------------------------------------------------------------------\u001b[0m",
      "\u001b[0;31mPanicException\u001b[0m                            Traceback (most recent call last)",
      "Cell \u001b[0;32mIn[164], line 1\u001b[0m\n\u001b[0;32m----> 1\u001b[0m train_df, grouped_chosen_ranks \u001b[38;5;241m=\u001b[39m \u001b[43mprocessing\u001b[49m\u001b[43m(\u001b[49m\u001b[43mdf\u001b[49m\u001b[43m)\u001b[49m\n\u001b[1;32m      3\u001b[0m grouped_chosen_ranks_pd \u001b[38;5;241m=\u001b[39m grouped_chosen_ranks\u001b[38;5;241m.\u001b[39mto_pandas()\n\u001b[1;32m      4\u001b[0m g \u001b[38;5;241m=\u001b[39m sns\u001b[38;5;241m.\u001b[39mlmplot(data\u001b[38;5;241m=\u001b[39mgrouped_chosen_ranks, x\u001b[38;5;241m=\u001b[39m\u001b[38;5;124m'\u001b[39m\u001b[38;5;124mtrial\u001b[39m\u001b[38;5;124m'\u001b[39m, y\u001b[38;5;241m=\u001b[39m\u001b[38;5;124m'\u001b[39m\u001b[38;5;124mchosenRank\u001b[39m\u001b[38;5;124m'\u001b[39m, hue\u001b[38;5;241m=\u001b[39m\u001b[38;5;124m'\u001b[39m\u001b[38;5;124mexpCond\u001b[39m\u001b[38;5;124m'\u001b[39m, markers\u001b[38;5;241m=\u001b[39m[\u001b[38;5;124m'\u001b[39m\u001b[38;5;124mo\u001b[39m\u001b[38;5;124m'\u001b[39m, \u001b[38;5;124m'\u001b[39m\u001b[38;5;124ms\u001b[39m\u001b[38;5;124m'\u001b[39m, \u001b[38;5;124m'\u001b[39m\u001b[38;5;124m^\u001b[39m\u001b[38;5;124m'\u001b[39m])\n",
      "Cell \u001b[0;32mIn[163], line 45\u001b[0m, in \u001b[0;36mprocessing\u001b[0;34m(df)\u001b[0m\n\u001b[1;32m     36\u001b[0m train_df \u001b[38;5;241m=\u001b[39m train_df\u001b[38;5;241m.\u001b[39mwith_columns(\n\u001b[1;32m     37\u001b[0m     true_selected_arm_val \u001b[38;5;241m=\u001b[39m pl\u001b[38;5;241m.\u001b[39mstruct(\u001b[38;5;124m'\u001b[39m\u001b[38;5;124mchosenArm\u001b[39m\u001b[38;5;124m'\u001b[39m, \u001b[38;5;124m'\u001b[39m\u001b[38;5;124mrand_arm_vals\u001b[39m\u001b[38;5;124m'\u001b[39m)\n\u001b[1;32m     38\u001b[0m     \u001b[38;5;241m.\u001b[39mmap_batches(\n\u001b[0;32m   (...)\u001b[0m\n\u001b[1;32m     41\u001b[0m     \u001b[38;5;241m.\u001b[39msort(descending\u001b[38;5;241m=\u001b[39m\u001b[38;5;28;01mTrue\u001b[39;00m)\n\u001b[1;32m     42\u001b[0m )\n\u001b[1;32m     44\u001b[0m \u001b[38;5;28mprint\u001b[39m(train_df)\n\u001b[0;32m---> 45\u001b[0m train_df \u001b[38;5;241m=\u001b[39m \u001b[43mtrain_df\u001b[49m\u001b[38;5;241;43m.\u001b[39;49m\u001b[43mwith_columns\u001b[49m\u001b[43m(\u001b[49m\u001b[43m   \u001b[49m\n\u001b[1;32m     46\u001b[0m \u001b[43m    \u001b[49m\u001b[43mall_arm_vals_shifted\u001b[49m\u001b[38;5;241;43m=\u001b[39;49m\u001b[43mlist_eval_ref\u001b[49m\u001b[43m(\u001b[49m\u001b[38;5;124;43m\"\u001b[39;49m\u001b[38;5;124;43mtrue_arm_vals\u001b[39;49m\u001b[38;5;124;43m\"\u001b[39;49m\u001b[43m,\u001b[49m\u001b[43m \u001b[49m\u001b[38;5;28;43;01mlambda\u001b[39;49;00m\u001b[43m \u001b[49m\u001b[43mx\u001b[49m\u001b[43m,\u001b[49m\u001b[43m \u001b[49m\u001b[43mall_noise_vals\u001b[49m\u001b[43m:\u001b[49m\u001b[43m \u001b[49m\u001b[43mx\u001b[49m\u001b[38;5;241;43m-\u001b[39;49m\u001b[43mall_noise_vals\u001b[49m\u001b[43m)\u001b[49m\n\u001b[1;32m     47\u001b[0m \u001b[43m    \u001b[49m\u001b[38;5;241;43m.\u001b[39;49m\u001b[43mlist\u001b[49m\n\u001b[1;32m     48\u001b[0m \u001b[43m    \u001b[49m\u001b[38;5;241;43m.\u001b[39;49m\u001b[43msort\u001b[49m\u001b[43m(\u001b[49m\u001b[43mdescending\u001b[49m\u001b[38;5;241;43m=\u001b[39;49m\u001b[38;5;28;43;01mTrue\u001b[39;49;00m\u001b[43m)\u001b[49m\n\u001b[1;32m     49\u001b[0m \u001b[43m\u001b[49m\u001b[43m)\u001b[49m\n\u001b[1;32m     50\u001b[0m train_df \u001b[38;5;241m=\u001b[39m train_df\u001b[38;5;241m.\u001b[39mwith_columns(pl\u001b[38;5;241m.\u001b[39mcol(\u001b[38;5;124m'\u001b[39m\u001b[38;5;124mall_arm_vals_shifted\u001b[39m\u001b[38;5;124m'\u001b[39m)\u001b[38;5;241m.\u001b[39mlist\u001b[38;5;241m.\u001b[39meval((pl\u001b[38;5;241m.\u001b[39melement() \u001b[38;5;241m==\u001b[39m \u001b[38;5;241m0\u001b[39m)\u001b[38;5;241m.\u001b[39mcast(\u001b[38;5;28mint\u001b[39m)\u001b[38;5;241m.\u001b[39marg_max())\u001b[38;5;241m.\u001b[39mlist\u001b[38;5;241m.\u001b[39mfirst()\u001b[38;5;241m.\u001b[39malias(\u001b[38;5;124m'\u001b[39m\u001b[38;5;124mchosenRank\u001b[39m\u001b[38;5;124m'\u001b[39m))\n\u001b[1;32m     51\u001b[0m grouped_chosen_ranks \u001b[38;5;241m=\u001b[39m train_df\u001b[38;5;241m.\u001b[39mgroup_by(\u001b[38;5;124m'\u001b[39m\u001b[38;5;124mtrial\u001b[39m\u001b[38;5;124m'\u001b[39m, \u001b[38;5;124m'\u001b[39m\u001b[38;5;124mexpCond\u001b[39m\u001b[38;5;124m'\u001b[39m)\u001b[38;5;241m.\u001b[39magg(pl\u001b[38;5;241m.\u001b[39mcol(\u001b[38;5;124m'\u001b[39m\u001b[38;5;124mchosenRank\u001b[39m\u001b[38;5;124m'\u001b[39m)\u001b[38;5;241m.\u001b[39mmean())\n",
      "File \u001b[0;32m~/research_projects/lbd/.venv/lib/python3.10/site-packages/polars/dataframe/frame.py:9819\u001b[0m, in \u001b[0;36mDataFrame.with_columns\u001b[0;34m(self, *exprs, **named_exprs)\u001b[0m\n\u001b[1;32m   9673\u001b[0m \u001b[38;5;28;01mdef\u001b[39;00m\u001b[38;5;250m \u001b[39m\u001b[38;5;21mwith_columns\u001b[39m(\n\u001b[1;32m   9674\u001b[0m     \u001b[38;5;28mself\u001b[39m,\n\u001b[1;32m   9675\u001b[0m     \u001b[38;5;241m*\u001b[39mexprs: IntoExpr \u001b[38;5;241m|\u001b[39m Iterable[IntoExpr],\n\u001b[1;32m   9676\u001b[0m     \u001b[38;5;241m*\u001b[39m\u001b[38;5;241m*\u001b[39mnamed_exprs: IntoExpr,\n\u001b[1;32m   9677\u001b[0m ) \u001b[38;5;241m-\u001b[39m\u001b[38;5;241m>\u001b[39m DataFrame:\n\u001b[1;32m   9678\u001b[0m \u001b[38;5;250m    \u001b[39m\u001b[38;5;124;03m\"\"\"\u001b[39;00m\n\u001b[1;32m   9679\u001b[0m \u001b[38;5;124;03m    Add columns to this DataFrame.\u001b[39;00m\n\u001b[1;32m   9680\u001b[0m \n\u001b[0;32m   (...)\u001b[0m\n\u001b[1;32m   9817\u001b[0m \u001b[38;5;124;03m    └─────┴──────┴─────────────┘\u001b[39;00m\n\u001b[1;32m   9818\u001b[0m \u001b[38;5;124;03m    \"\"\"\u001b[39;00m\n\u001b[0;32m-> 9819\u001b[0m     \u001b[38;5;28;01mreturn\u001b[39;00m \u001b[38;5;28;43mself\u001b[39;49m\u001b[38;5;241;43m.\u001b[39;49m\u001b[43mlazy\u001b[49m\u001b[43m(\u001b[49m\u001b[43m)\u001b[49m\u001b[38;5;241;43m.\u001b[39;49m\u001b[43mwith_columns\u001b[49m\u001b[43m(\u001b[49m\u001b[38;5;241;43m*\u001b[39;49m\u001b[43mexprs\u001b[49m\u001b[43m,\u001b[49m\u001b[43m \u001b[49m\u001b[38;5;241;43m*\u001b[39;49m\u001b[38;5;241;43m*\u001b[39;49m\u001b[43mnamed_exprs\u001b[49m\u001b[43m)\u001b[49m\u001b[38;5;241;43m.\u001b[39;49m\u001b[43mcollect\u001b[49m\u001b[43m(\u001b[49m\u001b[43m_eager\u001b[49m\u001b[38;5;241;43m=\u001b[39;49m\u001b[38;5;28;43;01mTrue\u001b[39;49;00m\u001b[43m)\u001b[49m\n",
      "File \u001b[0;32m~/research_projects/lbd/.venv/lib/python3.10/site-packages/polars/_utils/deprecation.py:93\u001b[0m, in \u001b[0;36mdeprecate_streaming_parameter.<locals>.decorate.<locals>.wrapper\u001b[0;34m(*args, **kwargs)\u001b[0m\n\u001b[1;32m     89\u001b[0m         kwargs[\u001b[38;5;124m\"\u001b[39m\u001b[38;5;124mengine\u001b[39m\u001b[38;5;124m\"\u001b[39m] \u001b[38;5;241m=\u001b[39m \u001b[38;5;124m\"\u001b[39m\u001b[38;5;124min-memory\u001b[39m\u001b[38;5;124m\"\u001b[39m\n\u001b[1;32m     91\u001b[0m     \u001b[38;5;28;01mdel\u001b[39;00m kwargs[\u001b[38;5;124m\"\u001b[39m\u001b[38;5;124mstreaming\u001b[39m\u001b[38;5;124m\"\u001b[39m]\n\u001b[0;32m---> 93\u001b[0m \u001b[38;5;28;01mreturn\u001b[39;00m \u001b[43mfunction\u001b[49m\u001b[43m(\u001b[49m\u001b[38;5;241;43m*\u001b[39;49m\u001b[43margs\u001b[49m\u001b[43m,\u001b[49m\u001b[43m \u001b[49m\u001b[38;5;241;43m*\u001b[39;49m\u001b[38;5;241;43m*\u001b[39;49m\u001b[43mkwargs\u001b[49m\u001b[43m)\u001b[49m\n",
      "File \u001b[0;32m~/research_projects/lbd/.venv/lib/python3.10/site-packages/polars/lazyframe/frame.py:2207\u001b[0m, in \u001b[0;36mLazyFrame.collect\u001b[0;34m(self, type_coercion, _type_check, predicate_pushdown, projection_pushdown, simplify_expression, slice_pushdown, comm_subplan_elim, comm_subexpr_elim, cluster_with_columns, collapse_joins, no_optimization, engine, background, _check_order, _eager, **_kwargs)\u001b[0m\n\u001b[1;32m   2205\u001b[0m \u001b[38;5;66;03m# Only for testing purposes\u001b[39;00m\n\u001b[1;32m   2206\u001b[0m callback \u001b[38;5;241m=\u001b[39m _kwargs\u001b[38;5;241m.\u001b[39mget(\u001b[38;5;124m\"\u001b[39m\u001b[38;5;124mpost_opt_callback\u001b[39m\u001b[38;5;124m\"\u001b[39m, callback)\n\u001b[0;32m-> 2207\u001b[0m \u001b[38;5;28;01mreturn\u001b[39;00m wrap_df(\u001b[43mldf\u001b[49m\u001b[38;5;241;43m.\u001b[39;49m\u001b[43mcollect\u001b[49m\u001b[43m(\u001b[49m\u001b[43mengine\u001b[49m\u001b[43m,\u001b[49m\u001b[43m \u001b[49m\u001b[43mcallback\u001b[49m\u001b[43m)\u001b[49m)\n",
      "\u001b[0;31mPanicException\u001b[0m: called `Result::unwrap()` on an `Err` value: InvalidOperation(ErrString(\"nested objects are not allowed\"))"
     ]
    }
   ],
   "source": [
    "train_df, grouped_chosen_ranks = processing(df)\n",
    "\n",
    "grouped_chosen_ranks_pd = grouped_chosen_ranks.to_pandas()\n",
    "g = sns.lmplot(data=grouped_chosen_ranks, x='trial', y='chosenRank', hue='expCond', markers=['o', 's', '^'])\n",
    "ticks = [0, 25, 50, 75, 100]\n",
    "g.set(xticks=ticks)\n",
    "# g.set_ticks([0, 25, 50, 75, 100])\n",
    "# g.set_xticklabels([0, 25, 50, 75, 100])"
   ]
  },
  {
   "cell_type": "code",
   "execution_count": 106,
   "id": "e4f7aac3",
   "metadata": {},
   "outputs": [
    {
     "data": {
      "text/html": [
       "<div><style>\n",
       ".dataframe > thead > tr,\n",
       ".dataframe > tbody > tr {\n",
       "  text-align: right;\n",
       "  white-space: pre-wrap;\n",
       "}\n",
       "</style>\n",
       "<small>shape: (19_300, 144)</small><table border=\"1\" class=\"dataframe\"><thead><tr><th>browser</th><th>platform</th><th>subjectID</th><th>expID</th><th>expCond</th><th>totalTime</th><th>phase</th><th>trial</th><th>keyPress</th><th>chosenArm</th><th>choiceRT</th><th>rewardObtained</th><th>rewardMax</th><th>regret</th><th>correct</th><th>switch</th><th>runningTotal</th><th>valArm1</th><th>randArm1</th><th>valArm2</th><th>randArm2</th><th>valArm3</th><th>randArm3</th><th>valArm4</th><th>randArm4</th><th>valArm5</th><th>randArm5</th><th>valArm6</th><th>randArm6</th><th>valArm7</th><th>randArm7</th><th>valArm8</th><th>randArm8</th><th>valArm9</th><th>randArm9</th><th>valArm10</th><th>randArm10</th><th>&hellip;</th><th>valArm13feat1</th><th>valArm13feat2</th><th>noiseArm13</th><th>nameArm13</th><th>valArm14feat1</th><th>valArm14feat2</th><th>noiseArm14</th><th>nameArm14</th><th>valArm15feat1</th><th>valArm15feat2</th><th>noiseArm15</th><th>nameArm15</th><th>valArm16feat1</th><th>valArm16feat2</th><th>noiseArm16</th><th>nameArm16</th><th>valArm17feat1</th><th>valArm17feat2</th><th>noiseArm17</th><th>nameArm17</th><th>valArm18feat1</th><th>valArm18feat2</th><th>noiseArm18</th><th>nameArm18</th><th>valArm19feat1</th><th>valArm19feat2</th><th>noiseArm19</th><th>nameArm19</th><th>valArm20feat1</th><th>valArm20feat2</th><th>noiseArm20</th><th>nameArm20</th><th>weight1</th><th>weight2</th><th>all_arm_vals</th><th>all_arm_vals_shifted</th><th>chosenRank</th></tr><tr><td>str</td><td>str</td><td>i64</td><td>str</td><td>str</td><td>f64</td><td>str</td><td>i64</td><td>i64</td><td>i64</td><td>i64</td><td>f64</td><td>f64</td><td>f64</td><td>i64</td><td>i64</td><td>f64</td><td>f64</td><td>i64</td><td>f64</td><td>i64</td><td>f64</td><td>i64</td><td>f64</td><td>i64</td><td>f64</td><td>i64</td><td>f64</td><td>i64</td><td>f64</td><td>i64</td><td>f64</td><td>i64</td><td>f64</td><td>i64</td><td>f64</td><td>i64</td><td>&hellip;</td><td>f64</td><td>f64</td><td>f64</td><td>str</td><td>f64</td><td>f64</td><td>f64</td><td>str</td><td>f64</td><td>f64</td><td>f64</td><td>str</td><td>f64</td><td>f64</td><td>f64</td><td>str</td><td>f64</td><td>f64</td><td>f64</td><td>str</td><td>f64</td><td>f64</td><td>f64</td><td>str</td><td>f64</td><td>f64</td><td>f64</td><td>str</td><td>f64</td><td>f64</td><td>f64</td><td>str</td><td>i64</td><td>i64</td><td>list[f64]</td><td>list[f64]</td><td>u32</td></tr></thead><tbody><tr><td>&quot;chrome&quot;</td><td>&quot;windows&quot;</td><td>2</td><td>&quot;exp1highReward&quot;</td><td>&quot;CMAB_Lin_NoIns&quot;</td><td>10.816433</td><td>&quot;training&quot;</td><td>1</td><td>19</td><td>20</td><td>9712</td><td>2.721505</td><td>3.561307</td><td>0.839802</td><td>0</td><td>0</td><td>22.721505</td><td>1.327617</td><td>2</td><td>1.718571</td><td>9</td><td>1.876731</td><td>6</td><td>2.88524</td><td>10</td><td>2.065993</td><td>15</td><td>1.109209</td><td>8</td><td>3.464238</td><td>12</td><td>1.913467</td><td>11</td><td>1.214639</td><td>1</td><td>2.352129</td><td>4</td><td>&hellip;</td><td>0.72645</td><td>0.867909</td><td>1.099039</td><td>&quot;inter&quot;</td><td>0.216667</td><td>0.821464</td><td>-0.494095</td><td>&quot;inter&quot;</td><td>0.127428</td><td>0.167216</td><td>-1.310707</td><td>&quot;inter&quot;</td><td>0.283032</td><td>0.525127</td><td>-0.138439</td><td>&quot;inter&quot;</td><td>0.711361</td><td>0.112186</td><td>-0.495821</td><td>&quot;inter&quot;</td><td>0.753527</td><td>0.607805</td><td>1.323672</td><td>&quot;inter&quot;</td><td>0.677082</td><td>0.632203</td><td>0.998222</td><td>&quot;inter&quot;</td><td>0.803621</td><td>0.732499</td><td>0.452885</td><td>&quot;inter&quot;</td><td>1</td><td>2</td><td>[1.327617, 1.718571, … 2.721505]</td><td>[0.839802, 0.742733, … -3.570352]</td><td>5</td></tr><tr><td>&quot;chrome&quot;</td><td>&quot;windows&quot;</td><td>2</td><td>&quot;exp1highReward&quot;</td><td>&quot;CMAB_Lin_NoIns&quot;</td><td>10.816433</td><td>&quot;training&quot;</td><td>2</td><td>18</td><td>19</td><td>5833</td><td>1.082311</td><td>3.991859</td><td>2.909548</td><td>0</td><td>1</td><td>23.803816</td><td>1.207088</td><td>2</td><td>2.114623</td><td>9</td><td>2.573887</td><td>6</td><td>2.285075</td><td>10</td><td>1.24303</td><td>15</td><td>1.525026</td><td>8</td><td>1.987652</td><td>12</td><td>-0.849392</td><td>11</td><td>2.314265</td><td>1</td><td>3.315799</td><td>4</td><td>&hellip;</td><td>0.72645</td><td>0.867909</td><td>-0.09522</td><td>&quot;inter&quot;</td><td>0.216667</td><td>0.821464</td><td>-1.032388</td><td>&quot;inter&quot;</td><td>0.127428</td><td>0.167216</td><td>0.999521</td><td>&quot;inter&quot;</td><td>0.283032</td><td>0.525127</td><td>2.658572</td><td>&quot;inter&quot;</td><td>0.711361</td><td>0.112186</td><td>0.230814</td><td>&quot;inter&quot;</td><td>0.753527</td><td>0.607805</td><td>0.142077</td><td>&quot;inter&quot;</td><td>0.677082</td><td>0.632203</td><td>-0.859178</td><td>&quot;inter&quot;</td><td>0.803621</td><td>0.732499</td><td>-0.466765</td><td>&quot;inter&quot;</td><td>1</td><td>2</td><td>[1.207088, 2.114623, … 1.801855]</td><td>[2.909548, 2.233488, … -1.931703]</td><td>16</td></tr><tr><td>&quot;chrome&quot;</td><td>&quot;windows&quot;</td><td>2</td><td>&quot;exp1highReward&quot;</td><td>&quot;CMAB_Lin_NoIns&quot;</td><td>10.816433</td><td>&quot;training&quot;</td><td>3</td><td>0</td><td>1</td><td>2766</td><td>0.619955</td><td>3.496261</td><td>2.876306</td><td>0</td><td>1</td><td>24.423771</td><td>0.619955</td><td>2</td><td>-1.048898</td><td>9</td><td>1.276719</td><td>6</td><td>2.189622</td><td>10</td><td>3.052373</td><td>15</td><td>1.861023</td><td>8</td><td>1.53738</td><td>12</td><td>2.245228</td><td>11</td><td>1.266903</td><td>1</td><td>2.433701</td><td>4</td><td>&hellip;</td><td>0.72645</td><td>0.867909</td><td>1.033992</td><td>&quot;inter&quot;</td><td>0.216667</td><td>0.821464</td><td>-1.014614</td><td>&quot;inter&quot;</td><td>0.127428</td><td>0.167216</td><td>-0.023868</td><td>&quot;inter&quot;</td><td>0.283032</td><td>0.525127</td><td>0.898417</td><td>&quot;inter&quot;</td><td>0.711361</td><td>0.112186</td><td>0.085191</td><td>&quot;inter&quot;</td><td>0.753527</td><td>0.607805</td><td>0.779204</td><td>&quot;inter&quot;</td><td>0.677082</td><td>0.632203</td><td>-0.147048</td><td>&quot;inter&quot;</td><td>0.803621</td><td>0.732499</td><td>-0.956391</td><td>&quot;inter&quot;</td><td>1</td><td>2</td><td>[0.619955, -1.048898, … 1.312229]</td><td>[2.876306, 2.432417, … -1.668853]</td><td>17</td></tr><tr><td>&quot;chrome&quot;</td><td>&quot;windows&quot;</td><td>2</td><td>&quot;exp1highReward&quot;</td><td>&quot;CMAB_Lin_NoIns&quot;</td><td>10.816433</td><td>&quot;training&quot;</td><td>4</td><td>17</td><td>18</td><td>1000</td><td>3.218271</td><td>3.437353</td><td>0.219082</td><td>0</td><td>1</td><td>27.642042</td><td>1.744009</td><td>2</td><td>2.22625</td><td>9</td><td>0.881657</td><td>6</td><td>1.730071</td><td>10</td><td>0.50605</td><td>15</td><td>3.275484</td><td>8</td><td>0.37383</td><td>12</td><td>2.974462</td><td>11</td><td>1.766405</td><td>1</td><td>1.816545</td><td>4</td><td>&hellip;</td><td>0.72645</td><td>0.867909</td><td>-0.454141</td><td>&quot;inter&quot;</td><td>0.216667</td><td>0.821464</td><td>1.577759</td><td>&quot;inter&quot;</td><td>0.127428</td><td>0.167216</td><td>-1.915397</td><td>&quot;inter&quot;</td><td>0.283032</td><td>0.525127</td><td>0.372876</td><td>&quot;inter&quot;</td><td>0.711361</td><td>0.112186</td><td>1.924093</td><td>&quot;inter&quot;</td><td>0.753527</td><td>0.607805</td><td>1.249134</td><td>&quot;inter&quot;</td><td>0.677082</td><td>0.632203</td><td>-0.119374</td><td>&quot;inter&quot;</td><td>0.803621</td><td>0.732499</td><td>-0.911789</td><td>&quot;inter&quot;</td><td>1</td><td>2</td><td>[1.744009, 2.22625, … 1.35683]</td><td>[0.219082, 0.057213, … -4.671809]</td><td>2</td></tr><tr><td>&quot;chrome&quot;</td><td>&quot;windows&quot;</td><td>2</td><td>&quot;exp1highReward&quot;</td><td>&quot;CMAB_Lin_NoIns&quot;</td><td>10.816433</td><td>&quot;training&quot;</td><td>5</td><td>16</td><td>17</td><td>1058</td><td>0.861198</td><td>4.974281</td><td>4.113083</td><td>0</td><td>1</td><td>28.50324</td><td>4.974281</td><td>2</td><td>2.21165</td><td>9</td><td>0.388026</td><td>6</td><td>1.220695</td><td>10</td><td>1.035577</td><td>15</td><td>0.634234</td><td>8</td><td>2.679628</td><td>12</td><td>1.841328</td><td>11</td><td>2.083442</td><td>1</td><td>4.21385</td><td>4</td><td>&hellip;</td><td>0.72645</td><td>0.867909</td><td>-0.11686</td><td>&quot;inter&quot;</td><td>0.216667</td><td>0.821464</td><td>0.947277</td><td>&quot;inter&quot;</td><td>0.127428</td><td>0.167216</td><td>0.185042</td><td>&quot;inter&quot;</td><td>0.283032</td><td>0.525127</td><td>-0.984962</td><td>&quot;inter&quot;</td><td>0.711361</td><td>0.112186</td><td>-0.074534</td><td>&quot;inter&quot;</td><td>0.753527</td><td>0.607805</td><td>0.526791</td><td>&quot;inter&quot;</td><td>0.677082</td><td>0.632203</td><td>-0.961692</td><td>&quot;inter&quot;</td><td>0.803621</td><td>0.732499</td><td>-0.132406</td><td>&quot;inter&quot;</td><td>1</td><td>2</td><td>[4.974281, 2.21165, … 2.136214]</td><td>[4.113083, 3.352652, … -2.744176]</td><td>13</td></tr><tr><td>&hellip;</td><td>&hellip;</td><td>&hellip;</td><td>&hellip;</td><td>&hellip;</td><td>&hellip;</td><td>&hellip;</td><td>&hellip;</td><td>&hellip;</td><td>&hellip;</td><td>&hellip;</td><td>&hellip;</td><td>&hellip;</td><td>&hellip;</td><td>&hellip;</td><td>&hellip;</td><td>&hellip;</td><td>&hellip;</td><td>&hellip;</td><td>&hellip;</td><td>&hellip;</td><td>&hellip;</td><td>&hellip;</td><td>&hellip;</td><td>&hellip;</td><td>&hellip;</td><td>&hellip;</td><td>&hellip;</td><td>&hellip;</td><td>&hellip;</td><td>&hellip;</td><td>&hellip;</td><td>&hellip;</td><td>&hellip;</td><td>&hellip;</td><td>&hellip;</td><td>&hellip;</td><td>&hellip;</td><td>&hellip;</td><td>&hellip;</td><td>&hellip;</td><td>&hellip;</td><td>&hellip;</td><td>&hellip;</td><td>&hellip;</td><td>&hellip;</td><td>&hellip;</td><td>&hellip;</td><td>&hellip;</td><td>&hellip;</td><td>&hellip;</td><td>&hellip;</td><td>&hellip;</td><td>&hellip;</td><td>&hellip;</td><td>&hellip;</td><td>&hellip;</td><td>&hellip;</td><td>&hellip;</td><td>&hellip;</td><td>&hellip;</td><td>&hellip;</td><td>&hellip;</td><td>&hellip;</td><td>&hellip;</td><td>&hellip;</td><td>&hellip;</td><td>&hellip;</td><td>&hellip;</td><td>&hellip;</td><td>&hellip;</td><td>&hellip;</td><td>&hellip;</td><td>&hellip;</td><td>&hellip;</td></tr><tr><td>&quot;firefox&quot;</td><td>&quot;windows&quot;</td><td>357</td><td>&quot;exp1highReward&quot;</td><td>&quot;MAB_Lin&quot;</td><td>5.661583</td><td>&quot;training&quot;</td><td>96</td><td>16</td><td>17</td><td>264</td><td>2.934323</td><td>3.056532</td><td>0.122209</td><td>0</td><td>1</td><td>200.422783</td><td>1.992445</td><td>4</td><td>2.409771</td><td>13</td><td>1.149279</td><td>2</td><td>0.934874</td><td>6</td><td>0.319049</td><td>19</td><td>-0.370369</td><td>12</td><td>0.159502</td><td>5</td><td>0.704094</td><td>1</td><td>-0.536397</td><td>17</td><td>0.419553</td><td>11</td><td>&hellip;</td><td>0.416415</td><td>0.165412</td><td>-1.028168</td><td>&quot;inter&quot;</td><td>0.11768</td><td>0.883581</td><td>-0.567994</td><td>&quot;inter&quot;</td><td>0.451982</td><td>0.624603</td><td>-1.290522</td><td>&quot;inter&quot;</td><td>0.636182</td><td>0.801538</td><td>0.012748</td><td>&quot;inter&quot;</td><td>0.892148</td><td>0.568857</td><td>0.581169</td><td>&quot;inter&quot;</td><td>0.489443</td><td>0.636078</td><td>0.428402</td><td>&quot;inter&quot;</td><td>0.811643</td><td>0.426754</td><td>-1.049746</td><td>&quot;inter&quot;</td><td>0.749234</td><td>0.445612</td><td>1.112453</td><td>&quot;inter&quot;</td><td>2</td><td>1</td><td>[1.992445, 2.409771, … 3.056532]</td><td>[0.122209, 0.0, … -3.47072]</td><td>1</td></tr><tr><td>&quot;firefox&quot;</td><td>&quot;windows&quot;</td><td>357</td><td>&quot;exp1highReward&quot;</td><td>&quot;MAB_Lin&quot;</td><td>5.661583</td><td>&quot;training&quot;</td><td>97</td><td>16</td><td>17</td><td>326</td><td>1.951474</td><td>3.095261</td><td>1.143787</td><td>0</td><td>0</td><td>202.374257</td><td>0.922237</td><td>4</td><td>0.611632</td><td>13</td><td>-1.372232</td><td>2</td><td>0.871147</td><td>6</td><td>0.255031</td><td>19</td><td>-0.003087</td><td>12</td><td>2.084547</td><td>5</td><td>2.472242</td><td>1</td><td>1.92802</td><td>17</td><td>-0.035103</td><td>11</td><td>&hellip;</td><td>0.416415</td><td>0.165412</td><td>0.164106</td><td>&quot;inter&quot;</td><td>0.11768</td><td>0.883581</td><td>-0.115076</td><td>&quot;inter&quot;</td><td>0.451982</td><td>0.624603</td><td>0.766353</td><td>&quot;inter&quot;</td><td>0.636182</td><td>0.801538</td><td>1.021359</td><td>&quot;inter&quot;</td><td>0.892148</td><td>0.568857</td><td>-0.401679</td><td>&quot;inter&quot;</td><td>0.489443</td><td>0.636078</td><td>0.065846</td><td>&quot;inter&quot;</td><td>0.811643</td><td>0.426754</td><td>-0.518802</td><td>&quot;inter&quot;</td><td>0.749234</td><td>0.445612</td><td>-0.193789</td><td>&quot;inter&quot;</td><td>2</td><td>1</td><td>[0.922237, 0.611632, … 1.75029]</td><td>[1.143787, 0.520768, … -3.323706]</td><td>4</td></tr><tr><td>&quot;firefox&quot;</td><td>&quot;windows&quot;</td><td>357</td><td>&quot;exp1highReward&quot;</td><td>&quot;MAB_Lin&quot;</td><td>5.661583</td><td>&quot;training&quot;</td><td>98</td><td>16</td><td>17</td><td>459</td><td>1.939091</td><td>4.328614</td><td>2.389522</td><td>0</td><td>0</td><td>204.313349</td><td>1.062252</td><td>4</td><td>4.226407</td><td>13</td><td>-0.095945</td><td>2</td><td>2.836889</td><td>6</td><td>0.814876</td><td>19</td><td>-0.351499</td><td>12</td><td>1.972048</td><td>5</td><td>1.017589</td><td>1</td><td>1.375276</td><td>17</td><td>0.753573</td><td>11</td><td>&hellip;</td><td>0.416415</td><td>0.165412</td><td>-0.685837</td><td>&quot;inter&quot;</td><td>0.11768</td><td>0.883581</td><td>1.08956</td><td>&quot;inter&quot;</td><td>0.451982</td><td>0.624603</td><td>1.32574</td><td>&quot;inter&quot;</td><td>0.636182</td><td>0.801538</td><td>1.533621</td><td>&quot;inter&quot;</td><td>0.892148</td><td>0.568857</td><td>-0.414062</td><td>&quot;inter&quot;</td><td>0.489443</td><td>0.636078</td><td>-0.658163</td><td>&quot;inter&quot;</td><td>0.811643</td><td>0.426754</td><td>0.66962</td><td>&quot;inter&quot;</td><td>0.749234</td><td>0.445612</td><td>0.190015</td><td>&quot;inter&quot;</td><td>2</td><td>1</td><td>[1.062252, 4.226407, … 2.134094]</td><td>[2.389522, 2.287316, … -2.290591]</td><td>9</td></tr><tr><td>&quot;firefox&quot;</td><td>&quot;windows&quot;</td><td>357</td><td>&quot;exp1highReward&quot;</td><td>&quot;MAB_Lin&quot;</td><td>5.661583</td><td>&quot;training&quot;</td><td>99</td><td>18</td><td>19</td><td>680</td><td>1.826546</td><td>2.978731</td><td>1.152185</td><td>0</td><td>1</td><td>206.139895</td><td>1.96475</td><td>4</td><td>1.037819</td><td>13</td><td>0.579412</td><td>2</td><td>2.822571</td><td>6</td><td>1.758046</td><td>19</td><td>1.460204</td><td>12</td><td>1.761822</td><td>5</td><td>2.552483</td><td>1</td><td>0.823805</td><td>17</td><td>0.199735</td><td>11</td><td>&hellip;</td><td>0.416415</td><td>0.165412</td><td>-0.088036</td><td>&quot;inter&quot;</td><td>0.11768</td><td>0.883581</td><td>0.738748</td><td>&quot;inter&quot;</td><td>0.451982</td><td>0.624603</td><td>-1.001483</td><td>&quot;inter&quot;</td><td>0.636182</td><td>0.801538</td><td>-0.396266</td><td>&quot;inter&quot;</td><td>0.892148</td><td>0.568857</td><td>0.030941</td><td>&quot;inter&quot;</td><td>0.489443</td><td>0.636078</td><td>0.302163</td><td>&quot;inter&quot;</td><td>0.811643</td><td>0.426754</td><td>-0.223494</td><td>&quot;inter&quot;</td><td>0.749234</td><td>0.445612</td><td>0.343347</td><td>&quot;inter&quot;</td><td>2</td><td>1</td><td>[1.96475, 1.037819, … 2.287426]</td><td>[1.152185, 0.996025, … -1.626811]</td><td>9</td></tr><tr><td>&quot;firefox&quot;</td><td>&quot;windows&quot;</td><td>357</td><td>&quot;exp1highReward&quot;</td><td>&quot;MAB_Lin&quot;</td><td>5.661583</td><td>&quot;training&quot;</td><td>100</td><td>18</td><td>19</td><td>504</td><td>1.285724</td><td>3.521983</td><td>2.236259</td><td>0</td><td>0</td><td>207.425619</td><td>3.521983</td><td>4</td><td>0.834974</td><td>13</td><td>1.687546</td><td>2</td><td>0.931127</td><td>6</td><td>0.964146</td><td>19</td><td>0.696098</td><td>12</td><td>1.890998</td><td>5</td><td>2.411202</td><td>1</td><td>2.916975</td><td>17</td><td>1.085393</td><td>11</td><td>&hellip;</td><td>0.416415</td><td>0.165412</td><td>1.195717</td><td>&quot;inter&quot;</td><td>0.11768</td><td>0.883581</td><td>-0.022425</td><td>&quot;inter&quot;</td><td>0.451982</td><td>0.624603</td><td>-0.158846</td><td>&quot;inter&quot;</td><td>0.636182</td><td>0.801538</td><td>0.644977</td><td>&quot;inter&quot;</td><td>0.892148</td><td>0.568857</td><td>0.377648</td><td>&quot;inter&quot;</td><td>0.489443</td><td>0.636078</td><td>1.443364</td><td>&quot;inter&quot;</td><td>0.811643</td><td>0.426754</td><td>-0.764316</td><td>&quot;inter&quot;</td><td>0.749234</td><td>0.445612</td><td>0.457858</td><td>&quot;inter&quot;</td><td>2</td><td>1</td><td>[3.521983, 0.834974, … 2.401937]</td><td>[2.236259, 2.009482, … -0.589626]</td><td>12</td></tr></tbody></table></div>"
      ],
      "text/plain": [
       "shape: (19_300, 144)\n",
       "┌─────────┬──────────┬───────────┬────────────┬───┬─────────┬────────────┬────────────┬────────────┐\n",
       "│ browser ┆ platform ┆ subjectID ┆ expID      ┆ … ┆ weight2 ┆ all_arm_va ┆ all_arm_va ┆ chosenRank │\n",
       "│ ---     ┆ ---      ┆ ---       ┆ ---        ┆   ┆ ---     ┆ ls         ┆ ls_shifted ┆ ---        │\n",
       "│ str     ┆ str      ┆ i64       ┆ str        ┆   ┆ i64     ┆ ---        ┆ ---        ┆ u32        │\n",
       "│         ┆          ┆           ┆            ┆   ┆         ┆ list[f64]  ┆ list[f64]  ┆            │\n",
       "╞═════════╪══════════╪═══════════╪════════════╪═══╪═════════╪════════════╪════════════╪════════════╡\n",
       "│ chrome  ┆ windows  ┆ 2         ┆ exp1highRe ┆ … ┆ 2       ┆ [1.327617, ┆ [0.839802, ┆ 5          │\n",
       "│         ┆          ┆           ┆ ward       ┆   ┆         ┆ 1.718571,  ┆ 0.742733,  ┆            │\n",
       "│         ┆          ┆           ┆            ┆   ┆         ┆ … 2.72150… ┆ … -3.5703… ┆            │\n",
       "│ chrome  ┆ windows  ┆ 2         ┆ exp1highRe ┆ … ┆ 2       ┆ [1.207088, ┆ [2.909548, ┆ 16         │\n",
       "│         ┆          ┆           ┆ ward       ┆   ┆         ┆ 2.114623,  ┆ 2.233488,  ┆            │\n",
       "│         ┆          ┆           ┆            ┆   ┆         ┆ … 1.80185… ┆ … -1.9317… ┆            │\n",
       "│ chrome  ┆ windows  ┆ 2         ┆ exp1highRe ┆ … ┆ 2       ┆ [0.619955, ┆ [2.876306, ┆ 17         │\n",
       "│         ┆          ┆           ┆ ward       ┆   ┆         ┆ -1.048898, ┆ 2.432417,  ┆            │\n",
       "│         ┆          ┆           ┆            ┆   ┆         ┆ … 1.3122…  ┆ … -1.6688… ┆            │\n",
       "│ chrome  ┆ windows  ┆ 2         ┆ exp1highRe ┆ … ┆ 2       ┆ [1.744009, ┆ [0.219082, ┆ 2          │\n",
       "│         ┆          ┆           ┆ ward       ┆   ┆         ┆ 2.22625, … ┆ 0.057213,  ┆            │\n",
       "│         ┆          ┆           ┆            ┆   ┆         ┆ 1.35683]   ┆ … -4.6718… ┆            │\n",
       "│ chrome  ┆ windows  ┆ 2         ┆ exp1highRe ┆ … ┆ 2       ┆ [4.974281, ┆ [4.113083, ┆ 13         │\n",
       "│         ┆          ┆           ┆ ward       ┆   ┆         ┆ 2.21165, … ┆ 3.352652,  ┆            │\n",
       "│         ┆          ┆           ┆            ┆   ┆         ┆ 2.136214…  ┆ … -2.7441… ┆            │\n",
       "│ …       ┆ …        ┆ …         ┆ …          ┆ … ┆ …       ┆ …          ┆ …          ┆ …          │\n",
       "│ firefox ┆ windows  ┆ 357       ┆ exp1highRe ┆ … ┆ 1       ┆ [1.992445, ┆ [0.122209, ┆ 1          │\n",
       "│         ┆          ┆           ┆ ward       ┆   ┆         ┆ 2.409771,  ┆ 0.0, …     ┆            │\n",
       "│         ┆          ┆           ┆            ┆   ┆         ┆ … 3.05653… ┆ -3.47072]  ┆            │\n",
       "│ firefox ┆ windows  ┆ 357       ┆ exp1highRe ┆ … ┆ 1       ┆ [0.922237, ┆ [1.143787, ┆ 4          │\n",
       "│         ┆          ┆           ┆ ward       ┆   ┆         ┆ 0.611632,  ┆ 0.520768,  ┆            │\n",
       "│         ┆          ┆           ┆            ┆   ┆         ┆ … 1.75029… ┆ … -3.3237… ┆            │\n",
       "│ firefox ┆ windows  ┆ 357       ┆ exp1highRe ┆ … ┆ 1       ┆ [1.062252, ┆ [2.389522, ┆ 9          │\n",
       "│         ┆          ┆           ┆ ward       ┆   ┆         ┆ 4.226407,  ┆ 2.287316,  ┆            │\n",
       "│         ┆          ┆           ┆            ┆   ┆         ┆ … 2.13409… ┆ … -2.2905… ┆            │\n",
       "│ firefox ┆ windows  ┆ 357       ┆ exp1highRe ┆ … ┆ 1       ┆ [1.96475,  ┆ [1.152185, ┆ 9          │\n",
       "│         ┆          ┆           ┆ ward       ┆   ┆         ┆ 1.037819,  ┆ 0.996025,  ┆            │\n",
       "│         ┆          ┆           ┆            ┆   ┆         ┆ …          ┆ … -1.6268… ┆            │\n",
       "│         ┆          ┆           ┆            ┆   ┆         ┆ 2.287426…  ┆            ┆            │\n",
       "│ firefox ┆ windows  ┆ 357       ┆ exp1highRe ┆ … ┆ 1       ┆ [3.521983, ┆ [2.236259, ┆ 12         │\n",
       "│         ┆          ┆           ┆ ward       ┆   ┆         ┆ 0.834974,  ┆ 2.009482,  ┆            │\n",
       "│         ┆          ┆           ┆            ┆   ┆         ┆ … 2.40193… ┆ … -0.5896… ┆            │\n",
       "└─────────┴──────────┴───────────┴────────────┴───┴─────────┴────────────┴────────────┴────────────┘"
      ]
     },
     "execution_count": 106,
     "metadata": {},
     "output_type": "execute_result"
    }
   ],
   "source": [
    "train_df"
   ]
  }
 ],
 "metadata": {
  "kernelspec": {
   "display_name": ".venv",
   "language": "python",
   "name": "python3"
  },
  "language_info": {
   "codemirror_mode": {
    "name": "ipython",
    "version": 3
   },
   "file_extension": ".py",
   "mimetype": "text/x-python",
   "name": "python",
   "nbconvert_exporter": "python",
   "pygments_lexer": "ipython3",
   "version": "3.10.14"
  }
 },
 "nbformat": 4,
 "nbformat_minor": 5
}
