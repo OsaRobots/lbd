{
 "cells": [
  {
   "cell_type": "code",
   "execution_count": 1,
   "id": "8c33767e",
   "metadata": {},
   "outputs": [],
   "source": [
    "import flax \n",
    "from flax import nnx\n",
    "import flax.nnx.nn as nn \n",
    "import jax\n",
    "import jax.numpy as np\n",
    "import optax "
   ]
  },
  {
   "cell_type": "code",
   "execution_count": 6,
   "id": "38f5cf31",
   "metadata": {},
   "outputs": [],
   "source": [
    "lstm_cell = nn.recurrent.LSTMCell(2, 10, rngs=nnx.Rngs(params=0))"
   ]
  }
 ],
 "metadata": {
  "kernelspec": {
   "display_name": ".venv",
   "language": "python",
   "name": "python3"
  },
  "language_info": {
   "codemirror_mode": {
    "name": "ipython",
    "version": 3
   },
   "file_extension": ".py",
   "mimetype": "text/x-python",
   "name": "python",
   "nbconvert_exporter": "python",
   "pygments_lexer": "ipython3",
   "version": "3.10.14"
  }
 },
 "nbformat": 4,
 "nbformat_minor": 5
}
